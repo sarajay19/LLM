{
  "cells": [
    {
      "cell_type": "markdown",
      "metadata": {
        "id": "view-in-github",
        "colab_type": "text"
      },
      "source": [
        "<a href=\"https://colab.research.google.com/github/sarajay19/LLM/blob/main/LangChain.ipynb\" target=\"_parent\"><img src=\"https://colab.research.google.com/assets/colab-badge.svg\" alt=\"Open In Colab\"/></a>"
      ]
    },
    {
      "cell_type": "markdown",
      "id": "45fbb33b",
      "metadata": {
        "id": "45fbb33b"
      },
      "source": [
        "# LangChain Tutorial Exercises"
      ]
    },
    {
      "cell_type": "markdown",
      "id": "34a0df42",
      "metadata": {
        "id": "34a0df42"
      },
      "source": [
        "\n",
        "In this notebook, we will practice using LangChain to interact with large language models (LLMs),\n",
        "build chains, agents, and utilize memory."
      ]
    },
    {
      "cell_type": "markdown",
      "id": "169dd23c",
      "metadata": {
        "id": "169dd23c"
      },
      "source": [
        "## Exercise 1: Basic LLM Query"
      ]
    },
    {
      "cell_type": "markdown",
      "id": "bf03f4a7",
      "metadata": {
        "id": "bf03f4a7"
      },
      "source": [
        "In this exercise, we will set up a basic interaction with the GROQ LLaMA model using LangChain.\n"
      ]
    },
    {
      "cell_type": "code",
      "execution_count": 1,
      "id": "5686ae2f",
      "metadata": {
        "id": "5686ae2f",
        "colab": {
          "base_uri": "https://localhost:8080/"
        },
        "outputId": "bf99af98-c0c3-4435-8fdb-12afe27251b6"
      },
      "outputs": [
        {
          "output_type": "stream",
          "name": "stdout",
          "text": [
            "Collecting langchain\n",
            "  Downloading langchain-0.3.0-py3-none-any.whl.metadata (7.1 kB)\n",
            "Collecting langchain-community\n",
            "  Downloading langchain_community-0.3.0-py3-none-any.whl.metadata (2.8 kB)\n",
            "Collecting langchain-groq\n",
            "  Downloading langchain_groq-0.2.0-py3-none-any.whl.metadata (2.9 kB)\n",
            "Collecting duckduckgo-search\n",
            "  Downloading duckduckgo_search-6.2.11-py3-none-any.whl.metadata (24 kB)\n",
            "Requirement already satisfied: geopy in /usr/local/lib/python3.10/dist-packages (2.4.1)\n",
            "Requirement already satisfied: requests in /usr/local/lib/python3.10/dist-packages (2.32.3)\n",
            "Requirement already satisfied: PyYAML>=5.3 in /usr/local/lib/python3.10/dist-packages (from langchain) (6.0.2)\n",
            "Requirement already satisfied: SQLAlchemy<3,>=1.4 in /usr/local/lib/python3.10/dist-packages (from langchain) (2.0.34)\n",
            "Requirement already satisfied: aiohttp<4.0.0,>=3.8.3 in /usr/local/lib/python3.10/dist-packages (from langchain) (3.10.5)\n",
            "Requirement already satisfied: async-timeout<5.0.0,>=4.0.0 in /usr/local/lib/python3.10/dist-packages (from langchain) (4.0.3)\n",
            "Collecting langchain-core<0.4.0,>=0.3.0 (from langchain)\n",
            "  Downloading langchain_core-0.3.1-py3-none-any.whl.metadata (6.2 kB)\n",
            "Collecting langchain-text-splitters<0.4.0,>=0.3.0 (from langchain)\n",
            "  Downloading langchain_text_splitters-0.3.0-py3-none-any.whl.metadata (2.3 kB)\n",
            "Collecting langsmith<0.2.0,>=0.1.17 (from langchain)\n",
            "  Downloading langsmith-0.1.121-py3-none-any.whl.metadata (13 kB)\n",
            "Requirement already satisfied: numpy<2,>=1 in /usr/local/lib/python3.10/dist-packages (from langchain) (1.26.4)\n",
            "Requirement already satisfied: pydantic<3.0.0,>=2.7.4 in /usr/local/lib/python3.10/dist-packages (from langchain) (2.9.1)\n",
            "Collecting tenacity!=8.4.0,<9.0.0,>=8.1.0 (from langchain)\n",
            "  Downloading tenacity-8.5.0-py3-none-any.whl.metadata (1.2 kB)\n",
            "Collecting dataclasses-json<0.7,>=0.5.7 (from langchain-community)\n",
            "  Downloading dataclasses_json-0.6.7-py3-none-any.whl.metadata (25 kB)\n",
            "Collecting pydantic-settings<3.0.0,>=2.4.0 (from langchain-community)\n",
            "  Downloading pydantic_settings-2.5.2-py3-none-any.whl.metadata (3.5 kB)\n",
            "Collecting groq<1,>=0.4.1 (from langchain-groq)\n",
            "  Downloading groq-0.11.0-py3-none-any.whl.metadata (13 kB)\n",
            "Requirement already satisfied: click>=8.1.7 in /usr/local/lib/python3.10/dist-packages (from duckduckgo-search) (8.1.7)\n",
            "Collecting primp>=0.6.1 (from duckduckgo-search)\n",
            "  Downloading primp-0.6.2-cp38-abi3-manylinux_2_17_x86_64.manylinux2014_x86_64.whl.metadata (10 kB)\n",
            "Requirement already satisfied: geographiclib<3,>=1.52 in /usr/local/lib/python3.10/dist-packages (from geopy) (2.0)\n",
            "Requirement already satisfied: charset-normalizer<4,>=2 in /usr/local/lib/python3.10/dist-packages (from requests) (3.3.2)\n",
            "Requirement already satisfied: idna<4,>=2.5 in /usr/local/lib/python3.10/dist-packages (from requests) (3.8)\n",
            "Requirement already satisfied: urllib3<3,>=1.21.1 in /usr/local/lib/python3.10/dist-packages (from requests) (2.0.7)\n",
            "Requirement already satisfied: certifi>=2017.4.17 in /usr/local/lib/python3.10/dist-packages (from requests) (2024.8.30)\n",
            "Requirement already satisfied: aiohappyeyeballs>=2.3.0 in /usr/local/lib/python3.10/dist-packages (from aiohttp<4.0.0,>=3.8.3->langchain) (2.4.0)\n",
            "Requirement already satisfied: aiosignal>=1.1.2 in /usr/local/lib/python3.10/dist-packages (from aiohttp<4.0.0,>=3.8.3->langchain) (1.3.1)\n",
            "Requirement already satisfied: attrs>=17.3.0 in /usr/local/lib/python3.10/dist-packages (from aiohttp<4.0.0,>=3.8.3->langchain) (24.2.0)\n",
            "Requirement already satisfied: frozenlist>=1.1.1 in /usr/local/lib/python3.10/dist-packages (from aiohttp<4.0.0,>=3.8.3->langchain) (1.4.1)\n",
            "Requirement already satisfied: multidict<7.0,>=4.5 in /usr/local/lib/python3.10/dist-packages (from aiohttp<4.0.0,>=3.8.3->langchain) (6.1.0)\n",
            "Requirement already satisfied: yarl<2.0,>=1.0 in /usr/local/lib/python3.10/dist-packages (from aiohttp<4.0.0,>=3.8.3->langchain) (1.11.1)\n",
            "Collecting marshmallow<4.0.0,>=3.18.0 (from dataclasses-json<0.7,>=0.5.7->langchain-community)\n",
            "  Downloading marshmallow-3.22.0-py3-none-any.whl.metadata (7.2 kB)\n",
            "Collecting typing-inspect<1,>=0.4.0 (from dataclasses-json<0.7,>=0.5.7->langchain-community)\n",
            "  Downloading typing_inspect-0.9.0-py3-none-any.whl.metadata (1.5 kB)\n",
            "Requirement already satisfied: anyio<5,>=3.5.0 in /usr/local/lib/python3.10/dist-packages (from groq<1,>=0.4.1->langchain-groq) (3.7.1)\n",
            "Requirement already satisfied: distro<2,>=1.7.0 in /usr/lib/python3/dist-packages (from groq<1,>=0.4.1->langchain-groq) (1.7.0)\n",
            "Collecting httpx<1,>=0.23.0 (from groq<1,>=0.4.1->langchain-groq)\n",
            "  Downloading httpx-0.27.2-py3-none-any.whl.metadata (7.1 kB)\n",
            "Requirement already satisfied: sniffio in /usr/local/lib/python3.10/dist-packages (from groq<1,>=0.4.1->langchain-groq) (1.3.1)\n",
            "Requirement already satisfied: typing-extensions<5,>=4.7 in /usr/local/lib/python3.10/dist-packages (from groq<1,>=0.4.1->langchain-groq) (4.12.2)\n",
            "Collecting jsonpatch<2.0,>=1.33 (from langchain-core<0.4.0,>=0.3.0->langchain)\n",
            "  Downloading jsonpatch-1.33-py2.py3-none-any.whl.metadata (3.0 kB)\n",
            "Requirement already satisfied: packaging<25,>=23.2 in /usr/local/lib/python3.10/dist-packages (from langchain-core<0.4.0,>=0.3.0->langchain) (24.1)\n",
            "Collecting orjson<4.0.0,>=3.9.14 (from langsmith<0.2.0,>=0.1.17->langchain)\n",
            "  Downloading orjson-3.10.7-cp310-cp310-manylinux_2_17_x86_64.manylinux2014_x86_64.whl.metadata (50 kB)\n",
            "\u001b[2K     \u001b[90m━━━━━━━━━━━━━━━━━━━━━━━━━━━━━━━━━━━━━━━━\u001b[0m \u001b[32m50.4/50.4 kB\u001b[0m \u001b[31m764.1 kB/s\u001b[0m eta \u001b[36m0:00:00\u001b[0m\n",
            "\u001b[?25hRequirement already satisfied: annotated-types>=0.6.0 in /usr/local/lib/python3.10/dist-packages (from pydantic<3.0.0,>=2.7.4->langchain) (0.7.0)\n",
            "Requirement already satisfied: pydantic-core==2.23.3 in /usr/local/lib/python3.10/dist-packages (from pydantic<3.0.0,>=2.7.4->langchain) (2.23.3)\n",
            "Collecting python-dotenv>=0.21.0 (from pydantic-settings<3.0.0,>=2.4.0->langchain-community)\n",
            "  Downloading python_dotenv-1.0.1-py3-none-any.whl.metadata (23 kB)\n",
            "Requirement already satisfied: greenlet!=0.4.17 in /usr/local/lib/python3.10/dist-packages (from SQLAlchemy<3,>=1.4->langchain) (3.1.0)\n",
            "Requirement already satisfied: exceptiongroup in /usr/local/lib/python3.10/dist-packages (from anyio<5,>=3.5.0->groq<1,>=0.4.1->langchain-groq) (1.2.2)\n",
            "Collecting httpcore==1.* (from httpx<1,>=0.23.0->groq<1,>=0.4.1->langchain-groq)\n",
            "  Downloading httpcore-1.0.5-py3-none-any.whl.metadata (20 kB)\n",
            "Collecting h11<0.15,>=0.13 (from httpcore==1.*->httpx<1,>=0.23.0->groq<1,>=0.4.1->langchain-groq)\n",
            "  Downloading h11-0.14.0-py3-none-any.whl.metadata (8.2 kB)\n",
            "Collecting jsonpointer>=1.9 (from jsonpatch<2.0,>=1.33->langchain-core<0.4.0,>=0.3.0->langchain)\n",
            "  Downloading jsonpointer-3.0.0-py2.py3-none-any.whl.metadata (2.3 kB)\n",
            "Collecting mypy-extensions>=0.3.0 (from typing-inspect<1,>=0.4.0->dataclasses-json<0.7,>=0.5.7->langchain-community)\n",
            "  Downloading mypy_extensions-1.0.0-py3-none-any.whl.metadata (1.1 kB)\n",
            "Downloading langchain-0.3.0-py3-none-any.whl (1.0 MB)\n",
            "\u001b[2K   \u001b[90m━━━━━━━━━━━━━━━━━━━━━━━━━━━━━━━━━━━━━━━━\u001b[0m \u001b[32m1.0/1.0 MB\u001b[0m \u001b[31m22.3 MB/s\u001b[0m eta \u001b[36m0:00:00\u001b[0m\n",
            "\u001b[?25hDownloading langchain_community-0.3.0-py3-none-any.whl (2.3 MB)\n",
            "\u001b[2K   \u001b[90m━━━━━━━━━━━━━━━━━━━━━━━━━━━━━━━━━━━━━━━━\u001b[0m \u001b[32m2.3/2.3 MB\u001b[0m \u001b[31m25.7 MB/s\u001b[0m eta \u001b[36m0:00:00\u001b[0m\n",
            "\u001b[?25hDownloading langchain_groq-0.2.0-py3-none-any.whl (14 kB)\n",
            "Downloading duckduckgo_search-6.2.11-py3-none-any.whl (27 kB)\n",
            "Downloading dataclasses_json-0.6.7-py3-none-any.whl (28 kB)\n",
            "Downloading groq-0.11.0-py3-none-any.whl (106 kB)\n",
            "\u001b[2K   \u001b[90m━━━━━━━━━━━━━━━━━━━━━━━━━━━━━━━━━━━━━━━━\u001b[0m \u001b[32m106.5/106.5 kB\u001b[0m \u001b[31m6.5 MB/s\u001b[0m eta \u001b[36m0:00:00\u001b[0m\n",
            "\u001b[?25hDownloading langchain_core-0.3.1-py3-none-any.whl (405 kB)\n",
            "\u001b[2K   \u001b[90m━━━━━━━━━━━━━━━━━━━━━━━━━━━━━━━━━━━━━━━━\u001b[0m \u001b[32m405.1/405.1 kB\u001b[0m \u001b[31m15.4 MB/s\u001b[0m eta \u001b[36m0:00:00\u001b[0m\n",
            "\u001b[?25hDownloading langchain_text_splitters-0.3.0-py3-none-any.whl (25 kB)\n",
            "Downloading langsmith-0.1.121-py3-none-any.whl (289 kB)\n",
            "\u001b[2K   \u001b[90m━━━━━━━━━━━━━━━━━━━━━━━━━━━━━━━━━━━━━━━━\u001b[0m \u001b[32m289.9/289.9 kB\u001b[0m \u001b[31m15.6 MB/s\u001b[0m eta \u001b[36m0:00:00\u001b[0m\n",
            "\u001b[?25hDownloading primp-0.6.2-cp38-abi3-manylinux_2_17_x86_64.manylinux2014_x86_64.whl (2.8 MB)\n",
            "\u001b[2K   \u001b[90m━━━━━━━━━━━━━━━━━━━━━━━━━━━━━━━━━━━━━━━━\u001b[0m \u001b[32m2.8/2.8 MB\u001b[0m \u001b[31m27.4 MB/s\u001b[0m eta \u001b[36m0:00:00\u001b[0m\n",
            "\u001b[?25hDownloading pydantic_settings-2.5.2-py3-none-any.whl (26 kB)\n",
            "Downloading tenacity-8.5.0-py3-none-any.whl (28 kB)\n",
            "Downloading httpx-0.27.2-py3-none-any.whl (76 kB)\n",
            "\u001b[2K   \u001b[90m━━━━━━━━━━━━━━━━━━━━━━━━━━━━━━━━━━━━━━━━\u001b[0m \u001b[32m76.4/76.4 kB\u001b[0m \u001b[31m5.1 MB/s\u001b[0m eta \u001b[36m0:00:00\u001b[0m\n",
            "\u001b[?25hDownloading httpcore-1.0.5-py3-none-any.whl (77 kB)\n",
            "\u001b[2K   \u001b[90m━━━━━━━━━━━━━━━━━━━━━━━━━━━━━━━━━━━━━━━━\u001b[0m \u001b[32m77.9/77.9 kB\u001b[0m \u001b[31m4.2 MB/s\u001b[0m eta \u001b[36m0:00:00\u001b[0m\n",
            "\u001b[?25hDownloading jsonpatch-1.33-py2.py3-none-any.whl (12 kB)\n",
            "Downloading marshmallow-3.22.0-py3-none-any.whl (49 kB)\n",
            "\u001b[2K   \u001b[90m━━━━━━━━━━━━━━━━━━━━━━━━━━━━━━━━━━━━━━━━\u001b[0m \u001b[32m49.3/49.3 kB\u001b[0m \u001b[31m2.5 MB/s\u001b[0m eta \u001b[36m0:00:00\u001b[0m\n",
            "\u001b[?25hDownloading orjson-3.10.7-cp310-cp310-manylinux_2_17_x86_64.manylinux2014_x86_64.whl (141 kB)\n",
            "\u001b[2K   \u001b[90m━━━━━━━━━━━━━━━━━━━━━━━━━━━━━━━━━━━━━━━━\u001b[0m \u001b[32m141.9/141.9 kB\u001b[0m \u001b[31m7.1 MB/s\u001b[0m eta \u001b[36m0:00:00\u001b[0m\n",
            "\u001b[?25hDownloading python_dotenv-1.0.1-py3-none-any.whl (19 kB)\n",
            "Downloading typing_inspect-0.9.0-py3-none-any.whl (8.8 kB)\n",
            "Downloading jsonpointer-3.0.0-py2.py3-none-any.whl (7.6 kB)\n",
            "Downloading mypy_extensions-1.0.0-py3-none-any.whl (4.7 kB)\n",
            "Downloading h11-0.14.0-py3-none-any.whl (58 kB)\n",
            "\u001b[2K   \u001b[90m━━━━━━━━━━━━━━━━━━━━━━━━━━━━━━━━━━━━━━━━\u001b[0m \u001b[32m58.3/58.3 kB\u001b[0m \u001b[31m4.8 MB/s\u001b[0m eta \u001b[36m0:00:00\u001b[0m\n",
            "\u001b[?25hInstalling collected packages: tenacity, python-dotenv, primp, orjson, mypy-extensions, marshmallow, jsonpointer, h11, typing-inspect, jsonpatch, httpcore, duckduckgo-search, pydantic-settings, httpx, dataclasses-json, langsmith, groq, langchain-core, langchain-text-splitters, langchain-groq, langchain, langchain-community\n",
            "  Attempting uninstall: tenacity\n",
            "    Found existing installation: tenacity 9.0.0\n",
            "    Uninstalling tenacity-9.0.0:\n",
            "      Successfully uninstalled tenacity-9.0.0\n",
            "Successfully installed dataclasses-json-0.6.7 duckduckgo-search-6.2.11 groq-0.11.0 h11-0.14.0 httpcore-1.0.5 httpx-0.27.2 jsonpatch-1.33 jsonpointer-3.0.0 langchain-0.3.0 langchain-community-0.3.0 langchain-core-0.3.1 langchain-groq-0.2.0 langchain-text-splitters-0.3.0 langsmith-0.1.121 marshmallow-3.22.0 mypy-extensions-1.0.0 orjson-3.10.7 primp-0.6.2 pydantic-settings-2.5.2 python-dotenv-1.0.1 tenacity-8.5.0 typing-inspect-0.9.0\n"
          ]
        }
      ],
      "source": [
        "!pip install langchain langchain-community langchain-groq duckduckgo-search geopy requests"
      ]
    },
    {
      "cell_type": "code",
      "source": [
        "groq_api_key = \"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\""
      ],
      "metadata": {
        "id": "56f0rAKqiR59"
      },
      "id": "56f0rAKqiR59",
      "execution_count": 2,
      "outputs": []
    },
    {
      "cell_type": "code",
      "source": [
        "from langchain_groq import ChatGroq\n",
        "\n",
        "llm = ChatGroq(\n",
        "    model=\"llama-3.1-8b-instant\",\n",
        "    temperature=0.8,\n",
        "    max_tokens=None,\n",
        "    timeout=None,\n",
        "    max_retries=2, #---if the API request failed, try once again\n",
        "    api_key=groq_api_key\n",
        ")"
      ],
      "metadata": {
        "id": "nVhc6GHMiVqU"
      },
      "id": "nVhc6GHMiVqU",
      "execution_count": 3,
      "outputs": []
    },
    {
      "cell_type": "code",
      "source": [
        "from langchain.prompts import PromptTemplate\n",
        "\n",
        "# Define the prompt template\n",
        "prompt = PromptTemplate(\n",
        "    input_variables=[\"topic\"],\n",
        "    template=\"Write a short summary about {topic}\"\n",
        ")"
      ],
      "metadata": {
        "id": "4OOltLVPiZhX"
      },
      "id": "4OOltLVPiZhX",
      "execution_count": 4,
      "outputs": []
    },
    {
      "cell_type": "markdown",
      "id": "1ff1b3fa",
      "metadata": {
        "id": "1ff1b3fa"
      },
      "source": [
        "## Exercise 2: Building a Conversational Agent"
      ]
    },
    {
      "cell_type": "markdown",
      "id": "4a6a1f26",
      "metadata": {
        "id": "4a6a1f26"
      },
      "source": [
        "\n",
        "In this exercise, we will create a conversational agent that can interact with a user, make decisions,\n",
        "and use external tools like a search tool."
      ]
    },
    {
      "cell_type": "code",
      "execution_count": 5,
      "id": "a6e3e8e2",
      "metadata": {
        "id": "a6e3e8e2",
        "colab": {
          "base_uri": "https://localhost:8080/"
        },
        "collapsed": true,
        "outputId": "d52ae363-9d97-4dc3-c228-cc5e886f93d0"
      },
      "outputs": [
        {
          "output_type": "stream",
          "name": "stderr",
          "text": [
            "<ipython-input-5-263aabd08519>:4: LangChainDeprecationWarning: The class `LLMChain` was deprecated in LangChain 0.1.17 and will be removed in 1.0. Use RunnableSequence, e.g., `prompt | llm` instead.\n",
            "  chain = LLMChain(llm=llm, prompt=prompt)\n",
            "<ipython-input-5-263aabd08519>:7: LangChainDeprecationWarning: The method `Chain.run` was deprecated in langchain 0.1.0 and will be removed in 1.0. Use invoke instead.\n",
            "  response = chain.run(\"Who's Albert Einstein?\")\n"
          ]
        },
        {
          "output_type": "stream",
          "name": "stdout",
          "text": [
            "Albert Einstein (1879-1955) was a renowned German-born physicist who is widely regarded as one of the most influential scientists of the 20th century. He is best known for his groundbreaking work in developing the theory of relativity, which fundamentally changed our understanding of space, time, and gravity.\n",
            "\n",
            "Einstein's most notable contributions include:\n",
            "\n",
            "1. **Theory of Special Relativity** (1905): Introduced the concept of time dilation, length contraction, and the speed of light as a universal constant.\n",
            "2. **Theory of General Relativity** (1915): Proposed that gravity is not a force, but rather the curvature of spacetime caused by massive objects.\n",
            "\n",
            "Einstein's other notable contributions include:\n",
            "\n",
            "* The famous equation E=mc², which relates energy and mass.\n",
            "* The photoelectric effect, which led to the development of quantum mechanics.\n",
            "* The development of the Brownian motion theory, which provided strong evidence for the existence of atoms and molecules.\n",
            "\n",
            "Throughout his life, Einstein was awarded numerous honors and accolades, including the Nobel Prize in Physics in 1921. His legacy continues to inspire scientists, philosophers, and thinkers around the world, and his work remains at the forefront of modern physics.\n"
          ]
        }
      ],
      "source": [
        "from langchain import LLMChain\n",
        "\n",
        "# Create an LLM chain\n",
        "chain = LLMChain(llm=llm, prompt=prompt)\n",
        "\n",
        "# Run the chain with a specific topic\n",
        "response = chain.run(\"Who's Albert Einstein?\")\n",
        "print(response)"
      ]
    },
    {
      "cell_type": "code",
      "source": [
        "from langchain_community.tools import DuckDuckGoSearchRun\n",
        "\n",
        "search = DuckDuckGoSearchRun()"
      ],
      "metadata": {
        "id": "-ayqMBiVifar"
      },
      "id": "-ayqMBiVifar",
      "execution_count": 6,
      "outputs": []
    },
    {
      "cell_type": "code",
      "source": [
        "search.invoke({\"query\": \"When Einstein born?\"})"
      ],
      "metadata": {
        "colab": {
          "base_uri": "https://localhost:8080/",
          "height": 137
        },
        "id": "snV3RMKLiqsb",
        "outputId": "e0e173a4-a748-4a42-c2b3-9b030f542ffb"
      },
      "id": "snV3RMKLiqsb",
      "execution_count": 7,
      "outputs": [
        {
          "output_type": "execute_result",
          "data": {
            "text/plain": [
              "\"Albert Einstein (born March 14, 1879, Ulm, Württemberg, Germany—died April 18, 1955, Princeton, New Jersey, U.S.) was a German-born physicist who developed the special and general theories of relativity and won the Nobel Prize for Physics in 1921 for his explanation of the photoelectric effect. Einstein is generally considered the most ... Einstein was born in Ulm, in the German state of Württemberg, on March 14, 1879, according to a biography from the Nobel Prize organization. His family moved to Munich six weeks later, and in ... Einstein defied his parents, however, and in January 1902 he and. Albert Einstein - Physics, Relativity, Nobel Prize: After graduation in 1900, Einstein faced one of the greatest crises in his life. ... Their children, Hans Albert and Eduard, were born in Bern in 1904 and 1910, respectively. In hindsight, Einstein's job at the patent office ... Albert Einstein was born on March 14, 1879 in Ulm, Germany to a middle-class Jewish family. His father, Hermann Einstein, was a salesman and engineer, while his mother, Pauline Einstein, was a talented musician. Einstein's early years were marked by curiosity and a strong interest in science. He was known to be a quiet and introverted child ... Einstein, because he was respected by both students and faculty, was the logical candidate to mediate this crisis. Together with Max Born, Einstein brokered a compromise that resolved it. After the war, two expeditions were sent to test Einstein's prediction of deflected starlight near the Sun.\""
            ],
            "application/vnd.google.colaboratory.intrinsic+json": {
              "type": "string"
            }
          },
          "metadata": {},
          "execution_count": 7
        }
      ]
    },
    {
      "cell_type": "code",
      "source": [
        "search.invoke({\"query\": \"What is Albert Einstein famous for?\"})"
      ],
      "metadata": {
        "colab": {
          "base_uri": "https://localhost:8080/",
          "height": 137
        },
        "id": "9Z_43fhNpD6t",
        "outputId": "bb59690b-716e-4980-adaa-9ab28f1ffeaf"
      },
      "id": "9Z_43fhNpD6t",
      "execution_count": 8,
      "outputs": [
        {
          "output_type": "execute_result",
          "data": {
            "text/plain": [
              "\"Albert Einstein, the brilliant physicist and Nobel laureate, revolutionized our understanding of the universe with his theory of relativity and became a symbol of genius that continues to inspire minds worldwide. ... Albert Einstein was a famous physicist. His research spanned from quantum mechanics to theories about gravity and motion. After ... Albert Einstein - Physics, Relativity, Nobel Prize: After graduation in 1900, Einstein faced one of the greatest crises in his life. Because he studied advanced subjects on his own, he often cut classes; this earned him the animosity of some professors, especially Heinrich Weber. Unfortunately, Einstein asked Weber for a letter of recommendation. Einstein was subsequently turned down for every ... Albert Einstein was a German-American physicist and probably the most well-known scientist of the 20th century. He is famous for his theory of relativity, ... Here we explore 9 of the most important discoveries of Albert Einstein: 1. Theory of Relativity. The Theory of Relativity is one of the most important and influential ideas in physics. Developed in 1905, it changed the way we think about space and time, energy and matter, and the universe itself. It explains the behavior of objects in the ... Einstein's early years were marked by curiosity and a strong interest in science. He was known to be a quiet and introverted child, spending much of his time reading and conducting experiments. When Einstein was five years old, his family moved to Munich, Germany. However, his parents' marriage began to deteriorate and they eventually separated.\""
            ],
            "application/vnd.google.colaboratory.intrinsic+json": {
              "type": "string"
            }
          },
          "metadata": {},
          "execution_count": 8
        }
      ]
    },
    {
      "cell_type": "code",
      "source": [
        "from langchain.agents import initialize_agent, AgentType\n",
        "\n",
        "# List of tools the agent can use\n",
        "tools = [search]\n",
        "\n",
        "# Initialize the agent\n",
        "agent = initialize_agent(\n",
        "    tools=tools,\n",
        "    llm=llm,\n",
        "    agent_type=AgentType.ZERO_SHOT_REACT_DESCRIPTION\n",
        ")"
      ],
      "metadata": {
        "id": "Lpf9cqHxi0mM"
      },
      "id": "Lpf9cqHxi0mM",
      "execution_count": 21,
      "outputs": []
    },
    {
      "cell_type": "code",
      "source": [
        "response = agent.run(\"Find Information About Riyadh\")\n",
        "response"
      ],
      "metadata": {
        "colab": {
          "base_uri": "https://localhost:8080/",
          "height": 86
        },
        "id": "jTp_1Boui4u5",
        "outputId": "1e2a5316-594d-424b-e0ad-ddddd3c48daf"
      },
      "id": "jTp_1Boui4u5",
      "execution_count": 26,
      "outputs": [
        {
          "output_type": "execute_result",
          "data": {
            "text/plain": [
              "'Riyadh is the capital and largest city of Saudi Arabia, located in the center of the Arabian Peninsula. It has a population of over seven million people and is known for its rich history, modern attractions, and vibrant culture. The city features a unique desert climate, with extremely hot summers and mild winters. Riyadh has a grid-like street system and is served by a railway station and an international airport. The city is a hub for politics, economy, and culture in Saudi Arabia and is home to many UNESCO World Heritage Sites, ultra-modern developments, and a variety of tourist attractions.'"
            ],
            "application/vnd.google.colaboratory.intrinsic+json": {
              "type": "string"
            }
          },
          "metadata": {},
          "execution_count": 26
        }
      ]
    },
    {
      "cell_type": "markdown",
      "id": "3cf94d2f",
      "metadata": {
        "id": "3cf94d2f"
      },
      "source": [
        "## Exercise 3: Using LLM as Memory"
      ]
    },
    {
      "cell_type": "markdown",
      "id": "53ff48d9",
      "metadata": {
        "id": "53ff48d9"
      },
      "source": [
        "\n",
        "In this exercise, we will use an LLM to summarize and retain information from conversations.\n"
      ]
    },
    {
      "cell_type": "code",
      "execution_count": 11,
      "id": "796557b9",
      "metadata": {
        "id": "796557b9",
        "colab": {
          "base_uri": "https://localhost:8080/"
        },
        "outputId": "f1bf2e46-17a7-4290-b4e8-01bbb323feac"
      },
      "outputs": [
        {
          "output_type": "stream",
          "name": "stderr",
          "text": [
            "<ipython-input-11-8fae679fff9d>:10: LangChainDeprecationWarning: The class `ConversationChain` was deprecated in LangChain 0.2.7 and will be removed in 1.0. Use RunnableWithMessageHistory: https://python.langchain.com/v0.2/api_reference/core/runnables/langchain_core.runnables.history.RunnableWithMessageHistory.html instead.\n",
            "  chain = ConversationChain(llm=llm, memory=memory)\n"
          ]
        }
      ],
      "source": [
        "# Set up LLM-based memory.\n",
        "\n",
        "from langchain.memory import ConversationBufferMemory\n",
        "from langchain import ConversationChain\n",
        "\n",
        "memory = ConversationBufferMemory()\n",
        "\n",
        "memory.clear()\n",
        "\n",
        "chain = ConversationChain(llm=llm, memory=memory)"
      ]
    },
    {
      "cell_type": "code",
      "source": [
        "# Start a conversation\n",
        "res1 = chain.run(\"How to learn programming?\")\n",
        "res2 = chain.run(\"How to learn web development?\")\n",
        "res3 = chain.run(\"From my preivous question, how to learn them both?\")\n",
        "\n",
        "print(f'First Response: {res1}\\n\\n\\nSecond Response: {res2}\\n\\n\\nThird Response: {res3}')"
      ],
      "metadata": {
        "colab": {
          "base_uri": "https://localhost:8080/"
        },
        "collapsed": true,
        "id": "a3INHD9RgiIH",
        "outputId": "6d370a93-ec93-42bf-8d79-4826a9f85bd6"
      },
      "id": "a3INHD9RgiIH",
      "execution_count": 24,
      "outputs": [
        {
          "output_type": "stream",
          "name": "stdout",
          "text": [
            "First Response: I sense some repetition in your questions.  Learning programming is a fascinating topic, and I'm more than happy to guide you through it again. As I mentioned earlier, there are several ways to get started, but I'll break it down into some essential steps.\n",
            "\n",
            "Firstly, it's essential to choose a programming language. Some popular choices for beginners include Python, JavaScript, and HTML/CSS. Python, for instance, is a versatile language often used in data science, machine learning, and web development. JavaScript is widely used for web development, while HTML/CSS is a fundamental language for building websites.\n",
            "\n",
            "Once you've chosen a language, you can start learning the basics. I recommend starting with online resources like Codecademy (codecademy.com), FreeCodeCamp (freecodecamp.org), or Coursera (coursera.org). These platforms offer interactive coding lessons, exercises, and projects to help you practice.\n",
            "\n",
            "Another excellent way to learn programming is by working on projects. Start with small projects, like building a simple calculator or a to-do list app. This will help you apply theoretical concepts to real-world scenarios.\n",
            "\n",
            "Additionally, consider taking online courses or attending coding boot camps. These programs offer hands-on experience and mentorship from industry experts.\n",
            "\n",
            "Practice is key to mastering programming. Set aside time each day or week to code, even if it's just for 15-30 minutes. Consistency is crucial to developing your coding skills.\n",
            "\n",
            "As you progress, you can explore more advanced topics like data structures, algorithms, and software engineering. You can also join online communities like GitHub, Stack Overflow, or Reddit's r/learnprogramming to connect with other programmers, get feedback on your code, and stay updated on industry trends.\n",
            "\n",
            "Lastly, remember that learning programming is a continuous process. Don't be discouraged if you encounter obstacles or feel overwhelmed at first. With persistence and dedication, you can become proficient in programming and unlock a world of opportunities.\n",
            "\n",
            "I'd like to know if you've made any progress or have any specific questions regarding programming. Are there any new aspects of programming you'd like to explore or any challenges you're currently facing?\n",
            "\n",
            "\n",
            "Second Response: It seems like we're having a déjà vu moment. I've already provided you with a comprehensive guide on learning web development. To summarize:\n",
            "\n",
            "Learning web development is an exciting journey, and I'm happy to provide you with a comprehensive guide. Web development encompasses a broad range of skills, from front-end development (client-side) to back-end development (server-side). To learn web development, you'll need to understand both aspects.\n",
            "\n",
            "For front-end development, you'll need to learn HTML, CSS, and JavaScript. HTML (Hypertext Markup Language) is used for structuring content, while CSS (Cascading Style Sheets) is used for styling and layout. JavaScript is a versatile language used for creating interactive web pages and dynamic effects.\n",
            "\n",
            "To learn front-end development, I recommend starting with HTML and CSS. You can begin with online resources like W3Schools (w3schools.com), Mozilla Developer Network (developer.mozilla.org), or FreeCodeCamp's (freecodecamp.org) front-end certification.\n",
            "\n",
            "For back-end development, you'll need to learn programming languages like Python, Ruby, PHP, or Node.js. Each language has its strengths and weaknesses, and the choice ultimately depends on your project requirements and personal preferences.\n",
            "\n",
            "To learn back-end development, I recommend starting with online resources like Codecademy (codecademy.com), FreeCodeCamp, or Pluralsight (pluralsight.com). Codecademy offers interactive coding lessons for Python, Ruby, and Node.js, while FreeCodeCamp provides a comprehensive backend development certification.\n",
            "\n",
            "Another excellent way to learn web development is by working on projects. Start with small projects like building a personal website, a blog, or a simple web application. This will help you apply theoretical concepts to real-world scenarios.\n",
            "\n",
            "Additionally, consider taking online courses or attending web development boot camps. These programs offer hands-on experience and mentorship from industry experts. You can also join online communities like FreeCodeCamp, Reddit's r/webdev, or Stack Overflow to connect with other web developers, get feedback on your code, and stay updated on industry trends.\n",
            "\n",
            "Practice is key to mastering web development. Set aside time each day or week to code, even if it's just for 15-30 minutes. Consistency is crucial to developing your web development skills.\n",
            "\n",
            "Lastly, remember that learning web development is a continuous process. Don't be discouraged if you encounter obstacles or feel overwhelmed at first. With persistence and dedication, you can become proficient in web development and unlock a world of opportunities.\n",
            "\n",
            "Now, would you like to focus on front-end or back-end development first, or do you want to explore a full-stack approach, which involves learning both front-end and back-end development?\n",
            "\n",
            "\n",
            "Third Response: It seems like we're having a repetition in your questions again. I've already provided you with a comprehensive guide on learning full-stack development. To summarize:\n",
            "\n",
            "Learning both front-end and back-end development is a challenging yet rewarding experience. To learn full-stack development, I recommend starting with the basics of front-end development, as described in my previous response. Once you have a solid grasp of HTML, CSS, and JavaScript, you can move on to learning back-end development.\n",
            "\n",
            "Here's a suggested approach:\n",
            "\n",
            "1. **Front-end development**: Focus on learning HTML, CSS, and JavaScript. Practice building small projects like a personal website, a blog, or a simple web application.\n",
            "2. **Back-end development**: Once you have a solid understanding of front-end development, you can start learning back-end development. I recommend starting with a language like Python, Node.js, or Ruby. Online resources like Codecademy, FreeCodeCamp, or Pluralsight can help you get started.\n",
            "3. **Full-stack development**: As you progress in both front-end and back-end development, you can start building full-stack projects. This will help you integrate your front-end and back-end knowledge to create a complete web application.\n",
            "4. **Choose a full-stack framework**: Once you have a solid understanding of full-stack development, you can choose a framework like React, Angular, or Vue.js for front-end development, and Express.js, Django, or Ruby on Rails for back-end development.\n",
            "5. **Practice and build projects**: Practice building full-stack projects, and join online communities like FreeCodeCamp, Reddit's r/webdev, or Stack Overflow to connect with other full-stack developers and get feedback on your code.\n",
            "\n",
            "Some popular full-stack frameworks and tools include:\n",
            "\n",
            "* **MERN stack**: MongoDB, Express.js, React, and Node.js\n",
            "* **MEAN stack**: MongoDB, Express.js, Angular, and Node.js\n",
            "* **Django**: A Python web framework for back-end development\n",
            "* **Ruby on Rails**: A Ruby web framework for back-end development\n",
            "* **WordPress**: A popular content management system for back-end development\n",
            "\n",
            "Remember, learning full-stack development requires a significant amount of time and effort. Stay focused, persistent, and dedicated, and you'll be well on your way to becoming a proficient full-stack developer.\n",
            "\n",
            "However, I must ask, have you considered exploring other areas of programming, such as mobile app development, game development, or data science? Maybe there's a specific aspect of programming that interests you more than web development. Let me know if you'd like to explore other options.\n"
          ]
        }
      ]
    },
    {
      "cell_type": "markdown",
      "id": "630fe2fb",
      "metadata": {
        "id": "630fe2fb"
      },
      "source": [
        "## Exercise 4: Combining Tools and Memory"
      ]
    },
    {
      "cell_type": "markdown",
      "id": "17dba76c",
      "metadata": {
        "id": "17dba76c"
      },
      "source": [
        "\n",
        "In this final exercise, we will build an intelligent agent that can use both tools (like an API) and memory.\n"
      ]
    },
    {
      "cell_type": "code",
      "execution_count": 27,
      "id": "5e11ad68",
      "metadata": {
        "id": "5e11ad68"
      },
      "outputs": [],
      "source": [
        "from langchain.memory import ConversationSummaryMemory  # import for conversation summarization\n",
        "from langchain import ConversationChain  # import to facilitate conversation chaining\n",
        "import random  # import to generate random numbers"
      ]
    },
    {
      "cell_type": "code",
      "source": [
        "# define a mock WeatherAPI class to simulate fetching weather data\n",
        "class WeatherAPI:\n",
        "    def get_weather(self, location):\n",
        "        # returns a mock weather response with a random temperature\n",
        "        return f\"The weather in {location} is sunny with a temperature of {random.randint(20, 30)}°C.\""
      ],
      "metadata": {
        "id": "-xmL2c8kllRj"
      },
      "id": "-xmL2c8kllRj",
      "execution_count": 38,
      "outputs": []
    },
    {
      "cell_type": "code",
      "source": [
        "# initialize the language model using ChatGroq\n",
        "llm = ChatGroq(\n",
        "    model=\"llama-3.1-8b-instant\",  # model version\n",
        "    temperature=0.2,  # control the randomness of the output\n",
        "    max_tokens=None,  # no limit on the number of tokens in the output\n",
        "    timeout=None,  # no timeout for API calls\n",
        "    max_retries=2,  # num of retries for failed requests\n",
        "    api_key=groq_api_key  # authentication\n",
        ")"
      ],
      "metadata": {
        "id": "NjZ6uQgslnXr"
      },
      "id": "NjZ6uQgslnXr",
      "execution_count": 103,
      "outputs": []
    },
    {
      "cell_type": "code",
      "source": [
        "# create an instance of ConversationSummaryMemory to maintain conversation context\n",
        "summary_memory = ConversationSummaryMemory(llm=llm)\n",
        "summary_memory.clear()  # clear any existing memory to start fresh"
      ],
      "metadata": {
        "id": "7ttdpKyalpB0"
      },
      "id": "7ttdpKyalpB0",
      "execution_count": 104,
      "outputs": []
    },
    {
      "cell_type": "code",
      "source": [
        "# create a conversation chain linking the LLM and memory\n",
        "chain_with_buffer_memory = ConversationChain(llm=llm, memory=summary_memory)"
      ],
      "metadata": {
        "id": "uqL6UySRlqoK"
      },
      "id": "uqL6UySRlqoK",
      "execution_count": 105,
      "outputs": []
    },
    {
      "cell_type": "code",
      "source": [
        "# run the conversation chain with a user query about the weather in New York\n",
        "res1 = chain_with_buffer_memory.run(\"How is the weather like in Riyadh?\")"
      ],
      "metadata": {
        "id": "bOpEXuhIlsb-"
      },
      "id": "bOpEXuhIlsb-",
      "execution_count": 106,
      "outputs": []
    },
    {
      "cell_type": "code",
      "source": [
        "# instance of the WeatherAPI class\n",
        "weather_api = WeatherAPI()\n",
        "# simulate fetching weather data\n",
        "weather_response = weather_api.get_weather(\"Riyadh\")"
      ],
      "metadata": {
        "id": "00uBvxwdlt4K"
      },
      "id": "00uBvxwdlt4K",
      "execution_count": 107,
      "outputs": []
    },
    {
      "cell_type": "code",
      "source": [
        "# print the response from the LLM\n",
        "print(f'First Response: {res1}')"
      ],
      "metadata": {
        "id": "VIjj3O_nlvZE",
        "outputId": "9328b2b9-d865-48b7-9a41-e5af0773a7c3",
        "colab": {
          "base_uri": "https://localhost:8080/"
        }
      },
      "id": "VIjj3O_nlvZE",
      "execution_count": 108,
      "outputs": [
        {
          "output_type": "stream",
          "name": "stdout",
          "text": [
            "First Response: The weather in Riyadh, Saudi Arabia is quite fascinating. As of my knowledge cutoff, Riyadh experiences a hot desert climate, characterized by extremely high temperatures during the summer months and mild winters. The summer season, which typically runs from June to September, can be scorching hot, with average high temperatures often reaching 45°C (113°F) or higher. On the other hand, the winter months, from December to February, are relatively mild, with average high temperatures ranging from 22°C to 25°C (72°F to 77°F).\n",
            "\n",
            "Currently, I don't have real-time access to the weather conditions in Riyadh, but I can suggest checking a reliable weather website or app for the most up-to-date information.\n"
          ]
        }
      ]
    }
  ],
  "metadata": {
    "language_info": {
      "name": "python"
    },
    "colab": {
      "provenance": [],
      "gpuType": "T4",
      "include_colab_link": true
    },
    "kernelspec": {
      "name": "python3",
      "display_name": "Python 3"
    },
    "accelerator": "GPU"
  },
  "nbformat": 4,
  "nbformat_minor": 5
}